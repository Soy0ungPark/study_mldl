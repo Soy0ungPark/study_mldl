{
  "cells": [
    {
      "cell_type": "markdown",
      "metadata": {
        "id": "view-in-github",
        "colab_type": "text"
      },
      "source": [
        "<a href=\"https://colab.research.google.com/github/Soy0ungPark/study_mldl/blob/master/16_RNN_transcript1.ipynb\" target=\"_parent\"><img src=\"https://colab.research.google.com/assets/colab-badge.svg\" alt=\"Open In Colab\"/></a>"
      ]
    },
    {
      "metadata": {
        "_uuid": "340c411000d38f9d7e7cbfee7daf46d49571960a",
        "id": "6lu4olIF1KmD"
      },
      "cell_type": "markdown",
      "source": [
        "# Aim and motivation\n",
        "The primary reason I have chosen to create this kernel is to practice and use RNNs for various tasks and applications. First of which is time series data. RNNs have truly changed the way sequential data is forecasted. My goal here is to create the ultimate reference for RNNs here on kaggle."
      ]
    },
    {
      "metadata": {
        "_uuid": "04a6c8887c7716dab64ea9bf77197c263e12d06f",
        "id": "0k9XLx8g1KmG"
      },
      "cell_type": "markdown",
      "source": [
        "## Things to remember\n",
        "* Please upvote(like button) and share this kernel if you like it. This would increase its visibility and more people will be able to learn about the awesomeness of RNNs.\n",
        "* I will use keras for this kernel. If you are not familiar with keras or neural networks, refer to this kernel/tutorial of mine:  https://www.kaggle.com/thebrownviking20/intro-to-keras-with-breast-cancer-data-ann\n",
        "* Your doubts and curiousity about time series can be taken care of here: https://www.kaggle.com/thebrownviking20/everything-you-can-do-with-a-time-series\n",
        "* Don't let the explanations intimidate you. It's simpler than you think.\n",
        "* Eventually, I will add more applications of LSTMs. So stay tuned for more!\n",
        "* The code is inspired from Kirill Eremenko's Deep Learning Course: https://www.udemy.com/deeplearning/"
      ]
    },
    {
      "metadata": {
        "_uuid": "8f2839f25d086af736a60e9eeb907d3b93b6e0e5",
        "_cell_guid": "b1076dfc-b9ad-4769-8c92-a6c4dae69d19",
        "trusted": true,
        "collapsed": true,
        "id": "EFxpAQem1KmG"
      },
      "cell_type": "markdown",
      "source": [
        "## Recurrent Neural Networks\n",
        "In a recurrent neural network we store the output activations from one or more of the layers of the network. Often these are hidden later activations. Then, the next time we feed an input example to the network, we include the previously-stored outputs as additional inputs. You can think of the additional inputs as being concatenated to the end of the “normal” inputs to the previous layer. For example, if a hidden layer had 10 regular input nodes and 128 hidden nodes in the layer, then it would actually have 138 total inputs (assuming you are feeding the layer’s outputs into itself à la Elman) rather than into another layer). Of course, the very first time you try to compute the output of the network you’ll need to fill in those extra 128 inputs with 0s or something.\n",
        "\n",
        "Source: [Quora](https://www.quora.com/What-is-a-simple-explanation-of-a-recurrent-neural-network)\n",
        "<img src=\"https://cdn-images-1.medium.com/max/1600/1*NKhwsOYNUT5xU7Pyf6Znhg.png\">\n",
        "\n",
        "Source: [Medium](https://medium.com/ai-journal/lstm-gru-recurrent-neural-networks-81fe2bcdf1f9)\n",
        "\n",
        "Let me give you the best explanation of Recurrent Neural Networks that I found on internet: https://www.youtube.com/watch?v=UNmqTiOnRfg&t=3s"
      ]
    },
    {
      "metadata": {
        "_cell_guid": "79c7e3d0-c299-4dcb-8224-4455121ee9b0",
        "collapsed": true,
        "_uuid": "d629ff2d2480ee46fbb7e2d37f6b5fab8052498a",
        "trusted": false,
        "id": "xuWyOuuT1KmH"
      },
      "cell_type": "markdown",
      "source": [
        "Now, even though RNNs are quite powerful, they suffer from  **Vanishing gradient problem ** which hinders them from using long term information, like they are good for storing memory 3-4 instances of past iterations but larger number of instances don't provide good results so we don't just use regular RNNs. Instead, we use a better variation of RNNs: **Long Short Term Networks(LSTM).**\n",
        "\n",
        "### What is Vanishing Gradient problem?\n",
        "Vanishing gradient problem is a difficulty found in training artificial neural networks with gradient-based learning methods and backpropagation. In such methods, each of the neural network's weights receives an update proportional to the partial derivative of the error function with respect to the current weight in each iteration of training. The problem is that in some cases, the gradient will be vanishingly small, effectively preventing the weight from changing its value. In the worst case, this may completely stop the neural network from further training. As one example of the problem cause, traditional activation functions such as the hyperbolic tangent function have gradients in the range (0, 1), and backpropagation computes gradients by the chain rule. This has the effect of multiplying n of these small numbers to compute gradients of the \"front\" layers in an n-layer network, meaning that the gradient (error signal) decreases exponentially with n while the front layers train very slowly.\n",
        "\n",
        "Source: [Wikipedia](https://en.wikipedia.org/wiki/Vanishing_gradient_problem)\n",
        "\n",
        "<img src=\"https://cdn-images-1.medium.com/max/1460/1*FWy4STsp8k0M5Yd8LifG_Q.png\">\n",
        "\n",
        "Source: [Medium](https://medium.com/@anishsingh20/the-vanishing-gradient-problem-48ae7f501257)"
      ]
    },
    {
      "metadata": {
        "_uuid": "79ac683d1b85322f6ed4a564637914a8d803221b",
        "id": "_qDbUXfL1KmI"
      },
      "cell_type": "markdown",
      "source": [
        "## Long Short Term Memory(LSTM)\n",
        "Long short-term memory (LSTM) units (or blocks) are a building unit for layers of a recurrent neural network (RNN). A RNN composed of LSTM units is often called an LSTM network. A common LSTM unit is composed of a cell, an input gate, an output gate and a forget gate. The cell is responsible for \"remembering\" values over arbitrary time intervals; hence the word \"memory\" in LSTM. Each of the three gates can be thought of as a \"conventional\" artificial neuron, as in a multi-layer (or feedforward) neural network: that is, they compute an activation (using an activation function) of a weighted sum. Intuitively, they can be thought as regulators of the flow of values that goes through the connections of the LSTM; hence the denotation \"gate\". There are connections between these gates and the cell.\n",
        "\n",
        "The expression long short-term refers to the fact that LSTM is a model for the short-term memory which can last for a long period of time. An LSTM is well-suited to classify, process and predict time series given time lags of unknown size and duration between important events. LSTMs were developed to deal with the exploding and vanishing gradient problem when training traditional RNNs.\n",
        "\n",
        "Source: [Wikipedia](https://en.wikipedia.org/wiki/Long_short-term_memory)\n",
        "\n",
        "<img src=\"https://cdn-images-1.medium.com/max/1600/0*LyfY3Mow9eCYlj7o.\">\n",
        "\n",
        "Source: [Medium](https://codeburst.io/generating-text-using-an-lstm-network-no-libraries-2dff88a3968)\n",
        "\n",
        "The best LSTM explanation on internet: https://medium.com/deep-math-machine-learning-ai/chapter-10-1-deepnlp-lstm-long-short-term-memory-networks-with-math-21477f8e4235\n",
        "\n",
        "Refer above link for deeper insights."
      ]
    },
    {
      "metadata": {
        "_uuid": "42c24cc294d93504880c5c76d383b491d89b29f1",
        "id": "6OyL2uIH1KmI"
      },
      "cell_type": "markdown",
      "source": [
        "## Components of LSTMs\n",
        "So the LSTM cell contains the following components\n",
        "* Forget Gate “f” ( a neural network with sigmoid)\n",
        "* Candidate layer “C\"(a NN with Tanh)\n",
        "* Input Gate “I” ( a NN with sigmoid )\n",
        "* Output Gate “O”( a NN with sigmoid)\n",
        "* Hidden state “H” ( a vector )\n",
        "* Memory state “C” ( a vector)\n",
        "\n",
        "* Inputs to the LSTM cell at any step are X<sub>t</sub> (current input) , H<sub>t-1</sub> (previous hidden state ) and C<sub>t-1</sub> (previous memory state).  \n",
        "* Outputs from the LSTM cell are H<sub>t</sub> (current hidden state ) and C<sub>t</sub> (current memory state)"
      ]
    },
    {
      "metadata": {
        "_uuid": "e7f3771ce38c69191eb23681561744863ee30ea8",
        "id": "PbXaYBQ41KmJ"
      },
      "cell_type": "markdown",
      "source": [
        "## Working of gates in LSTMs\n",
        "First, LSTM cell takes the previous memory state C<sub>t-1</sub> and does element wise multiplication with forget gate (f) to decide if  present memory state C<sub>t</sub>. If forget gate value is 0 then previous memory state is completely forgotten else f forget gate value is 1 then previous memory state is completely passed to the cell ( Remember f gate gives values between 0 and 1 ).\n",
        "\n",
        "**C<sub>t</sub> = C<sub>t-1</sub> * f<sub>t</sub>**\n",
        "\n",
        "Calculating the new memory state: \n",
        "\n",
        "**C<sub>t</sub> = C<sub>t</sub> + (I<sub>t</sub> * C\\`<sub>t</sub>)**\n",
        "\n",
        "Now, we calculate the output:\n",
        "\n",
        "**H<sub>t</sub> = tanh(C<sub>t</sub>)**"
      ]
    },
    {
      "metadata": {
        "trusted": true,
        "collapsed": true,
        "_uuid": "2f82cc24efc6283e5a98cadb78fc1a465e44c143",
        "id": "C8Y9BVuw1KmJ"
      },
      "cell_type": "markdown",
      "source": [
        "### And now we get to the code...\n",
        "I will use LSTMs for predicting the price of stocks of IBM for the year 2017"
      ]
    },
    {
      "metadata": {
        "trusted": true,
        "_uuid": "da0236e4b36ce514c1fec3fd72f236d1fa259131",
        "collapsed": true,
        "id": "JGTUOMlP1KmJ"
      },
      "cell_type": "code",
      "source": [
        "# Importing the libraries\n",
        "import numpy as np\n",
        "import matplotlib.pyplot as plt\n",
        "plt.style.use('fivethirtyeight')\n",
        "import pandas as pd\n",
        "from sklearn.preprocessing import MinMaxScaler\n",
        "from keras.models import Sequential\n",
        "from keras.layers import Dense, LSTM, Dropout, GRU, Bidirectional\n",
        "from keras.optimizers import SGD\n",
        "import math\n",
        "from sklearn.metrics import mean_squared_error\n"
      ],
      "execution_count": 1,
      "outputs": []
    },
    {
      "metadata": {
        "trusted": true,
        "_uuid": "b288a8e2caf6196daec9cd2bc4ca78fe50345845",
        "id": "p6CO0MGI1KmK"
      },
      "cell_type": "code",
      "source": [
        "# Some functions to help out with\n",
        "def plot_predictions(test, predicted):\n",
        "  plt.plot(test, color='red', label='Real IBM Stock Price')\n",
        "  plt.plot(predicted, color='blue', label='Predicted IBM Stock Price')\n",
        "  plt.title('IBM Stock Price Prediction')\n",
        "  plt.xlabel('Time')\n",
        "  plt.ylabel('IBM Stock Price')\n",
        "  plt.legend()\n",
        "  plt.show()\n",
        "\n",
        "def return_rmse(test, predicted):\n",
        "  rmse = math.sqrt(mean_squared_error(test, predicted))\n",
        "  print('The root mean squared error is {}.'.format(rmse))\n",
        "\n"
      ],
      "execution_count": 2,
      "outputs": []
    },
    {
      "cell_type": "code",
      "source": [
        "from google.colab import drive\n",
        "drive.mount('/content/drive')"
      ],
      "metadata": {
        "colab": {
          "base_uri": "https://localhost:8080/"
        },
        "id": "Zcoy4Bli5fC-",
        "outputId": "750899ac-bc89-4f33-e91d-8026ec311e70"
      },
      "execution_count": 4,
      "outputs": [
        {
          "output_type": "stream",
          "name": "stdout",
          "text": [
            "Mounted at /content/drive\n"
          ]
        }
      ]
    },
    {
      "cell_type": "code",
      "source": [
        "#폴더로 이동\n",
        "%cd /content/drive/MyDrive/MLDL/study_mldl/"
      ],
      "metadata": {
        "colab": {
          "base_uri": "https://localhost:8080/"
        },
        "id": "grxqBjmW5o38",
        "outputId": "239cc627-91a6-4f90-fa3a-077ee88f4bee"
      },
      "execution_count": 7,
      "outputs": [
        {
          "output_type": "stream",
          "name": "stdout",
          "text": [
            "/content/drive/MyDrive/MLDL/study_mldl\n"
          ]
        }
      ]
    },
    {
      "metadata": {
        "trusted": true,
        "_uuid": "4cf10cf27420eb383b93b15c0895139ea96c0ed3",
        "collapsed": true,
        "colab": {
          "base_uri": "https://localhost:8080/",
          "height": 237
        },
        "id": "LeTO3hat1KmL",
        "outputId": "42108991-b30e-4ad8-deec-df5335883a83"
      },
      "cell_type": "code",
      "source": [
        "# First, we get the data\n",
        "dataset = pd.read_csv('IBM_2006-01-01_to_2018-01-01_1.csv', index_col='Date', parse_dates=['Date'])\n",
        "dataset.head()"
      ],
      "execution_count": 9,
      "outputs": [
        {
          "output_type": "execute_result",
          "data": {
            "text/plain": [
              "             Open   High    Low  Close    Volume Name\n",
              "Date                                                 \n",
              "2006-01-03  82.45  82.55  80.81  82.06  11715200  IBM\n",
              "2006-01-04  82.20  82.50  81.33  81.95   9840600  IBM\n",
              "2006-01-05  81.40  82.90  81.00  82.50   7213500  IBM\n",
              "2006-01-06  83.95  85.03  83.41  84.95   8197400  IBM\n",
              "2006-01-09  84.10  84.25  83.38  83.73   6858200  IBM"
            ],
            "text/html": [
              "\n",
              "  <div id=\"df-fbac5a49-4941-4034-a857-b7bef5f06808\">\n",
              "    <div class=\"colab-df-container\">\n",
              "      <div>\n",
              "<style scoped>\n",
              "    .dataframe tbody tr th:only-of-type {\n",
              "        vertical-align: middle;\n",
              "    }\n",
              "\n",
              "    .dataframe tbody tr th {\n",
              "        vertical-align: top;\n",
              "    }\n",
              "\n",
              "    .dataframe thead th {\n",
              "        text-align: right;\n",
              "    }\n",
              "</style>\n",
              "<table border=\"1\" class=\"dataframe\">\n",
              "  <thead>\n",
              "    <tr style=\"text-align: right;\">\n",
              "      <th></th>\n",
              "      <th>Open</th>\n",
              "      <th>High</th>\n",
              "      <th>Low</th>\n",
              "      <th>Close</th>\n",
              "      <th>Volume</th>\n",
              "      <th>Name</th>\n",
              "    </tr>\n",
              "    <tr>\n",
              "      <th>Date</th>\n",
              "      <th></th>\n",
              "      <th></th>\n",
              "      <th></th>\n",
              "      <th></th>\n",
              "      <th></th>\n",
              "      <th></th>\n",
              "    </tr>\n",
              "  </thead>\n",
              "  <tbody>\n",
              "    <tr>\n",
              "      <th>2006-01-03</th>\n",
              "      <td>82.45</td>\n",
              "      <td>82.55</td>\n",
              "      <td>80.81</td>\n",
              "      <td>82.06</td>\n",
              "      <td>11715200</td>\n",
              "      <td>IBM</td>\n",
              "    </tr>\n",
              "    <tr>\n",
              "      <th>2006-01-04</th>\n",
              "      <td>82.20</td>\n",
              "      <td>82.50</td>\n",
              "      <td>81.33</td>\n",
              "      <td>81.95</td>\n",
              "      <td>9840600</td>\n",
              "      <td>IBM</td>\n",
              "    </tr>\n",
              "    <tr>\n",
              "      <th>2006-01-05</th>\n",
              "      <td>81.40</td>\n",
              "      <td>82.90</td>\n",
              "      <td>81.00</td>\n",
              "      <td>82.50</td>\n",
              "      <td>7213500</td>\n",
              "      <td>IBM</td>\n",
              "    </tr>\n",
              "    <tr>\n",
              "      <th>2006-01-06</th>\n",
              "      <td>83.95</td>\n",
              "      <td>85.03</td>\n",
              "      <td>83.41</td>\n",
              "      <td>84.95</td>\n",
              "      <td>8197400</td>\n",
              "      <td>IBM</td>\n",
              "    </tr>\n",
              "    <tr>\n",
              "      <th>2006-01-09</th>\n",
              "      <td>84.10</td>\n",
              "      <td>84.25</td>\n",
              "      <td>83.38</td>\n",
              "      <td>83.73</td>\n",
              "      <td>6858200</td>\n",
              "      <td>IBM</td>\n",
              "    </tr>\n",
              "  </tbody>\n",
              "</table>\n",
              "</div>\n",
              "      <button class=\"colab-df-convert\" onclick=\"convertToInteractive('df-fbac5a49-4941-4034-a857-b7bef5f06808')\"\n",
              "              title=\"Convert this dataframe to an interactive table.\"\n",
              "              style=\"display:none;\">\n",
              "        \n",
              "  <svg xmlns=\"http://www.w3.org/2000/svg\" height=\"24px\"viewBox=\"0 0 24 24\"\n",
              "       width=\"24px\">\n",
              "    <path d=\"M0 0h24v24H0V0z\" fill=\"none\"/>\n",
              "    <path d=\"M18.56 5.44l.94 2.06.94-2.06 2.06-.94-2.06-.94-.94-2.06-.94 2.06-2.06.94zm-11 1L8.5 8.5l.94-2.06 2.06-.94-2.06-.94L8.5 2.5l-.94 2.06-2.06.94zm10 10l.94 2.06.94-2.06 2.06-.94-2.06-.94-.94-2.06-.94 2.06-2.06.94z\"/><path d=\"M17.41 7.96l-1.37-1.37c-.4-.4-.92-.59-1.43-.59-.52 0-1.04.2-1.43.59L10.3 9.45l-7.72 7.72c-.78.78-.78 2.05 0 2.83L4 21.41c.39.39.9.59 1.41.59.51 0 1.02-.2 1.41-.59l7.78-7.78 2.81-2.81c.8-.78.8-2.07 0-2.86zM5.41 20L4 18.59l7.72-7.72 1.47 1.35L5.41 20z\"/>\n",
              "  </svg>\n",
              "      </button>\n",
              "      \n",
              "  <style>\n",
              "    .colab-df-container {\n",
              "      display:flex;\n",
              "      flex-wrap:wrap;\n",
              "      gap: 12px;\n",
              "    }\n",
              "\n",
              "    .colab-df-convert {\n",
              "      background-color: #E8F0FE;\n",
              "      border: none;\n",
              "      border-radius: 50%;\n",
              "      cursor: pointer;\n",
              "      display: none;\n",
              "      fill: #1967D2;\n",
              "      height: 32px;\n",
              "      padding: 0 0 0 0;\n",
              "      width: 32px;\n",
              "    }\n",
              "\n",
              "    .colab-df-convert:hover {\n",
              "      background-color: #E2EBFA;\n",
              "      box-shadow: 0px 1px 2px rgba(60, 64, 67, 0.3), 0px 1px 3px 1px rgba(60, 64, 67, 0.15);\n",
              "      fill: #174EA6;\n",
              "    }\n",
              "\n",
              "    [theme=dark] .colab-df-convert {\n",
              "      background-color: #3B4455;\n",
              "      fill: #D2E3FC;\n",
              "    }\n",
              "\n",
              "    [theme=dark] .colab-df-convert:hover {\n",
              "      background-color: #434B5C;\n",
              "      box-shadow: 0px 1px 3px 1px rgba(0, 0, 0, 0.15);\n",
              "      filter: drop-shadow(0px 1px 2px rgba(0, 0, 0, 0.3));\n",
              "      fill: #FFFFFF;\n",
              "    }\n",
              "  </style>\n",
              "\n",
              "      <script>\n",
              "        const buttonEl =\n",
              "          document.querySelector('#df-fbac5a49-4941-4034-a857-b7bef5f06808 button.colab-df-convert');\n",
              "        buttonEl.style.display =\n",
              "          google.colab.kernel.accessAllowed ? 'block' : 'none';\n",
              "\n",
              "        async function convertToInteractive(key) {\n",
              "          const element = document.querySelector('#df-fbac5a49-4941-4034-a857-b7bef5f06808');\n",
              "          const dataTable =\n",
              "            await google.colab.kernel.invokeFunction('convertToInteractive',\n",
              "                                                     [key], {});\n",
              "          if (!dataTable) return;\n",
              "\n",
              "          const docLinkHtml = 'Like what you see? Visit the ' +\n",
              "            '<a target=\"_blank\" href=https://colab.research.google.com/notebooks/data_table.ipynb>data table notebook</a>'\n",
              "            + ' to learn more about interactive tables.';\n",
              "          element.innerHTML = '';\n",
              "          dataTable['output_type'] = 'display_data';\n",
              "          await google.colab.output.renderOutput(dataTable, element);\n",
              "          const docLink = document.createElement('div');\n",
              "          docLink.innerHTML = docLinkHtml;\n",
              "          element.appendChild(docLink);\n",
              "        }\n",
              "      </script>\n",
              "    </div>\n",
              "  </div>\n",
              "  "
            ]
          },
          "metadata": {},
          "execution_count": 9
        }
      ]
    },
    {
      "metadata": {
        "trusted": true,
        "_uuid": "fb4c9db6d8a5bcf20ffad41747cfa5b6215ba220",
        "collapsed": true,
        "id": "fsw275C11KmL"
      },
      "cell_type": "code",
      "source": [
        "# Checking for missing values\n",
        "training_set = dataset[:'2016'].iloc[:,1:2].values\n",
        "test_set = dataset['2017':].iloc[:,1:2].values\n"
      ],
      "execution_count": 10,
      "outputs": []
    },
    {
      "metadata": {
        "trusted": true,
        "_uuid": "bf5a9463d58e73852d2b70be9611e8cf1f4166fd",
        "collapsed": true,
        "colab": {
          "base_uri": "https://localhost:8080/",
          "height": 303
        },
        "id": "0YupIWme1KmL",
        "outputId": "bb6bb2bd-2951-4895-9d67-76b669bf19a0"
      },
      "cell_type": "code",
      "source": [
        "# We have chosen 'High' attribute for prices. Let's see what it looks like\n",
        "dataset['High'][:'2016'].plot(figsize=(16,4), legend=True)\n",
        "dataset['High']['2017':].plot(figsize=(16,4), legend=True)\n",
        "plt.legend(['Training set (Before 2017)', 'Test set (2017 and beyond)'])\n",
        "plt.title('IBM stock price')\n",
        "plt.show()\n"
      ],
      "execution_count": 11,
      "outputs": [
        {
          "output_type": "display_data",
          "data": {
            "text/plain": [
              "<Figure size 1152x288 with 1 Axes>"
            ],
            "image/png": "[encoded data removed]"
          },
          "metadata": {}
        }
      ]
    },
    {
      "metadata": {
        "trusted": true,
        "_uuid": "bcc9c36165fc07d258bd5ea87874d2da17fa4a4d",
        "collapsed": true,
        "id": "-QxCy6Em1KmL"
      },
      "cell_type": "code",
      "source": [
        "# Scaling the training set\n",
        "sc = MinMaxScaler(feature_range=(0,1))\n",
        "training_set_scaled = sc.fit_transform(training_set)\n",
        "\n"
      ],
      "execution_count": 12,
      "outputs": []
    },
    {
      "metadata": {
        "trusted": true,
        "_uuid": "fccfb866a2b4c702e0b2742f7c0289512d713d1b",
        "collapsed": true,
        "id": "v1N909111KmL"
      },
      "cell_type": "code",
      "source": [
        "# Since LSTMs store long term memory state, we create a data structure with 60 timesteps and 1 output\n",
        "# So for each element of training set, we have 60 previous training set elements \n",
        "X_train = []\n",
        "y_train = []\n",
        "for i in range(60, 2769):\n",
        "  X_train.append(training_set_scaled[i-60:i, 0])\n",
        "  y_train.append(training_set_scaled[i,0])\n",
        "X_train, y_train = np.array(X_train),np.array(y_train)\n"
      ],
      "execution_count": 14,
      "outputs": []
    },
    {
      "metadata": {
        "trusted": true,
        "_uuid": "637f699d3c4bde4b783de56ed4dd70a1bf59760d",
        "collapsed": true,
        "id": "y9PLKHok1KmM"
      },
      "cell_type": "code",
      "source": [
        "# Reshaping X_train for efficient modelling\n",
        "X_train = np.reshape(X_train, (X_train.shape[0], X_train.shape[1], 1))\n",
        "\n"
      ],
      "execution_count": 15,
      "outputs": []
    },
    {
      "metadata": {
        "trusted": true,
        "_uuid": "df20eb7e8062dae0a3aff2182aa440faddd0017d",
        "collapsed": true,
        "colab": {
          "base_uri": "https://localhost:8080/"
        },
        "id": "ipFsfKmT1KmM",
        "outputId": "8843e5a9-8cfb-4ee7-aa1d-3a6e47a336ea"
      },
      "cell_type": "code",
      "source": [
        "# The LSTM architecture\n",
        "regressor = Sequential()\n",
        "\n",
        "# First LSTM layer with Dropout regularisation\n",
        "regressor.add(LSTM(units=50, return_sequences=True, input_shape=(X_train.shape[1],1)))\n",
        "regressor.add(Dropout(0.2))\n",
        "\n",
        "# Second LSTM layer\n",
        "regressor.add(LSTM(units=50, return_sequences=True))\n",
        "regressor.add(Dropout(0.2))\n",
        "\n",
        "# Third LSTM layer\n",
        "regressor.add(LSTM(units=50, return_sequences=True))\n",
        "regressor.add(Dropout(0.2))\n",
        "\n",
        "# Fourth LSTM layer\n",
        "regressor.add(LSTM(units=50))\n",
        "regressor.add(Dropout(0.2))\n",
        "\n",
        "# The output layer\n",
        "regressor.add(Dense(units=1))\n",
        "\n",
        "\n",
        "# Compiling the RNN\n",
        "regressor.compile(optimizer='rmsprop', loss='mean_squared_error')\n",
        "\n",
        "\n",
        "# Fitting to the training set\n",
        "regressor.fit(X_train, y_train, epochs=50, batch_size=32)\n"
      ],
      "execution_count": 16,
      "outputs": [
        {
          "output_type": "stream",
          "name": "stdout",
          "text": [
            "Epoch 1/50\n",
            "85/85 [==============================] - 17s 22ms/step - loss: 0.0198\n",
            "Epoch 2/50\n",
            "85/85 [==============================] - 2s 21ms/step - loss: 0.0095\n",
            "Epoch 3/50\n",
            "85/85 [==============================] - 2s 20ms/step - loss: 0.0084\n",
            "Epoch 4/50\n",
            "85/85 [==============================] - 2s 20ms/step - loss: 0.0068\n",
            "Epoch 5/50\n",
            "85/85 [==============================] - 3s 35ms/step - loss: 0.0061\n",
            "Epoch 6/50\n",
            "85/85 [==============================] - 2s 21ms/step - loss: 0.0057\n",
            "Epoch 7/50\n",
            "85/85 [==============================] - 1s 17ms/step - loss: 0.0054\n",
            "Epoch 8/50\n",
            "85/85 [==============================] - 2s 22ms/step - loss: 0.0048\n",
            "Epoch 9/50\n",
            "85/85 [==============================] - 2s 29ms/step - loss: 0.0045\n",
            "Epoch 10/50\n",
            "85/85 [==============================] - 2s 18ms/step - loss: 0.0042\n",
            "Epoch 11/50\n",
            "85/85 [==============================] - 2s 19ms/step - loss: 0.0042\n",
            "Epoch 12/50\n",
            "85/85 [==============================] - 2s 25ms/step - loss: 0.0037\n",
            "Epoch 13/50\n",
            "85/85 [==============================] - 2s 18ms/step - loss: 0.0036\n",
            "Epoch 14/50\n",
            "85/85 [==============================] - 1s 16ms/step - loss: 0.0033\n",
            "Epoch 15/50\n",
            "85/85 [==============================] - 2s 18ms/step - loss: 0.0031\n",
            "Epoch 16/50\n",
            "85/85 [==============================] - 2s 25ms/step - loss: 0.0033\n",
            "Epoch 17/50\n",
            "85/85 [==============================] - 2s 23ms/step - loss: 0.0029\n",
            "Epoch 18/50\n",
            "85/85 [==============================] - 2s 22ms/step - loss: 0.0027\n",
            "Epoch 19/50\n",
            "85/85 [==============================] - 2s 22ms/step - loss: 0.0027\n",
            "Epoch 20/50\n",
            "85/85 [==============================] - 2s 29ms/step - loss: 0.0026\n",
            "Epoch 21/50\n",
            "85/85 [==============================] - 2s 25ms/step - loss: 0.0026\n",
            "Epoch 22/50\n",
            "85/85 [==============================] - 2s 22ms/step - loss: 0.0025\n",
            "Epoch 23/50\n",
            "85/85 [==============================] - 2s 19ms/step - loss: 0.0022\n",
            "Epoch 24/50\n",
            "85/85 [==============================] - 2s 18ms/step - loss: 0.0023\n",
            "Epoch 25/50\n",
            "85/85 [==============================] - 1s 13ms/step - loss: 0.0023\n",
            "Epoch 26/50\n",
            "85/85 [==============================] - 2s 20ms/step - loss: 0.0023\n",
            "Epoch 27/50\n",
            "85/85 [==============================] - 2s 21ms/step - loss: 0.0023\n",
            "Epoch 28/50\n",
            "85/85 [==============================] - 2s 25ms/step - loss: 0.0022\n",
            "Epoch 29/50\n",
            "85/85 [==============================] - 2s 22ms/step - loss: 0.0021\n",
            "Epoch 30/50\n",
            "85/85 [==============================] - 1s 17ms/step - loss: 0.0021\n",
            "Epoch 31/50\n",
            "85/85 [==============================] - 2s 19ms/step - loss: 0.0022\n",
            "Epoch 32/50\n",
            "85/85 [==============================] - 1s 16ms/step - loss: 0.0020\n",
            "Epoch 33/50\n",
            "85/85 [==============================] - 1s 17ms/step - loss: 0.0019\n",
            "Epoch 34/50\n",
            "85/85 [==============================] - 2s 23ms/step - loss: 0.0019\n",
            "Epoch 35/50\n",
            "85/85 [==============================] - 2s 28ms/step - loss: 0.0019\n",
            "Epoch 36/50\n",
            "85/85 [==============================] - 2s 27ms/step - loss: 0.0020\n",
            "Epoch 37/50\n",
            "85/85 [==============================] - 2s 22ms/step - loss: 0.0018\n",
            "Epoch 38/50\n",
            "85/85 [==============================] - 1s 17ms/step - loss: 0.0020\n",
            "Epoch 39/50\n",
            "85/85 [==============================] - 1s 13ms/step - loss: 0.0018\n",
            "Epoch 40/50\n",
            "85/85 [==============================] - 1s 13ms/step - loss: 0.0017\n",
            "Epoch 41/50\n",
            "85/85 [==============================] - 1s 14ms/step - loss: 0.0018\n",
            "Epoch 42/50\n",
            "85/85 [==============================] - 1s 17ms/step - loss: 0.0017\n",
            "Epoch 43/50\n",
            "85/85 [==============================] - 1s 17ms/step - loss: 0.0017\n",
            "Epoch 44/50\n",
            "85/85 [==============================] - 2s 23ms/step - loss: 0.0017\n",
            "Epoch 45/50\n",
            "85/85 [==============================] - 2s 24ms/step - loss: 0.0016\n",
            "Epoch 46/50\n",
            "85/85 [==============================] - 2s 18ms/step - loss: 0.0016\n",
            "Epoch 47/50\n",
            "85/85 [==============================] - 1s 16ms/step - loss: 0.0015\n",
            "Epoch 48/50\n",
            "85/85 [==============================] - 1s 17ms/step - loss: 0.0016\n",
            "Epoch 49/50\n",
            "85/85 [==============================] - 2s 20ms/step - loss: 0.0015\n",
            "Epoch 50/50\n",
            "85/85 [==============================] - 2s 22ms/step - loss: 0.0015\n"
          ]
        },
        {
          "output_type": "execute_result",
          "data": {
            "text/plain": [
              "<keras.callbacks.History at 0x7f1a1c104880>"
            ]
          },
          "metadata": {},
          "execution_count": 16
        }
      ]
    },
    {
      "metadata": {
        "trusted": true,
        "_uuid": "326fa85615622feb484cc4c848edeec6f7133913",
        "collapsed": true,
        "id": "Rfv7AOId1KmM"
      },
      "cell_type": "code",
      "source": [
        "# Now to get the test set ready in a similar way as the training set.\n",
        "# The following has been done so forst 60 entires of test set have 60 previous values which is impossible to get unless we take the whole \n",
        "# 'High' attribute data for processing\n",
        "dataset_total = pd.concat((dataset['High'][:'2016'], dataset['High']['2017']), axis=0)\n",
        "inputs = dataset_total[len(dataset_total)-len(test_set) - 60:].values\n",
        "inputs = inputs.reshape(-1, 1)\n",
        "inputs = sc.transform(inputs)"
      ],
      "execution_count": 17,
      "outputs": []
    },
    {
      "metadata": {
        "trusted": true,
        "collapsed": true,
        "_uuid": "435b8024814939ac4fbd372baa0cd8cfc78f80bc",
        "colab": {
          "base_uri": "https://localhost:8080/"
        },
        "id": "c2UW-YQb1KmM",
        "outputId": "2dedae7f-7963-442a-98cd-91a8c9e436c9"
      },
      "cell_type": "code",
      "source": [
        "# Preparing X_test and predicting the prices\n",
        "X_test = []\n",
        "for i in range(60, 311):\n",
        "  X_test.append(inputs[i-60:i, 0])\n",
        "X_test = np.array(X_test)\n",
        "X_test = np.reshape(X_test, (X_test.shape[0], X_test.shape[1], 1))\n",
        "predicted_stock_price = regressor.predict(X_test)\n",
        "predicted_stock_price = sc.inverse_transform(predicted_stock_price)\n",
        "\n"
      ],
      "execution_count": 18,
      "outputs": [
        {
          "output_type": "stream",
          "name": "stdout",
          "text": [
            "8/8 [==============================] - 1s 7ms/step\n"
          ]
        }
      ]
    },
    {
      "metadata": {
        "trusted": true,
        "scrolled": false,
        "_uuid": "b774a8e79e53eac89694cafef6b11aa99226b95f",
        "collapsed": true,
        "colab": {
          "base_uri": "https://localhost:8080/",
          "height": 325
        },
        "id": "pbiPRhAc1KmN",
        "outputId": "574d6de8-da11-4500-88ab-dec5b1e48b5e"
      },
      "cell_type": "code",
      "source": [
        "# Visualizing the results for LSTM\n",
        "plot_predictions(test_set, predicted_stock_price)\n"
      ],
      "execution_count": 20,
      "outputs": [
        {
          "output_type": "display_data",
          "data": {
            "text/plain": [
              "<Figure size 432x288 with 1 Axes>"
            ],
            "image/png": "[encoded data removed]"
          },
          "metadata": {}
        }
      ]
    },
    {
      "metadata": {
        "trusted": true,
        "_uuid": "f6f6db0b6e1f17ac63c06ce49856873d98ba5f00",
        "collapsed": true,
        "colab": {
          "base_uri": "https://localhost:8080/"
        },
        "id": "ZkpHKvGB1KmN",
        "outputId": "94a905b1-2d90-4e7d-a6b1-b0ef015a93b8"
      },
      "cell_type": "code",
      "source": [
        "# Evaluating our model\n",
        "return_rmse(test_set, predicted_stock_price)\n"
      ],
      "execution_count": 22,
      "outputs": [
        {
          "output_type": "stream",
          "name": "stdout",
          "text": [
            "The root mean squared error is 3.3264061722104254.\n"
          ]
        }
      ]
    },
    {
      "metadata": {
        "trusted": true,
        "_uuid": "a4cf704ab3cd091f63b7b9a1b9224a49f0913171",
        "id": "A5AvBE8R1KmN"
      },
      "cell_type": "markdown",
      "source": [
        "Truth be told. That's one awesome score. \n",
        "\n",
        "LSTM is not the only kind of unit that has taken the world of Deep Learning by a storm. We have **Gated Recurrent Units(GRU)**. It's not known, which is better: GRU or LSTM becuase they have comparable performances. GRUs are easier to train than LSTMs.\n",
        "\n",
        "## Gated Recurrent Units\n",
        "In simple words, the GRU unit does not have to use a memory unit to control the flow of information like the LSTM unit. It can directly makes use of the all hidden states without any control. GRUs have fewer parameters and thus may train a bit faster or need less data to generalize. But, with large data, the LSTMs with higher expressiveness may lead to better results.\n",
        "\n",
        "They are almost similar to LSTMs except that they have two gates: reset gate and update gate. Reset gate determines how to combine new input to previous memory and update gate determines how much of the previous state to keep. Update gate in GRU is what input gate and forget gate were in LSTM. We don't have the second non linearity in GRU before calculating the outpu, .neither they have the output gate.\n",
        "\n",
        "Source: [Quora](https://www.quora.com/Whats-the-difference-between-LSTM-and-GRU-Why-are-GRU-efficient-to-train)\n",
        "\n",
        "<img src=\"https://cdnpythonmachinelearning.azureedge.net/wp-content/uploads/2017/11/GRU.png?x31195\">"
      ]
    },
    {
      "metadata": {
        "trusted": true,
        "collapsed": true,
        "_uuid": "e9b616c5112d707d16cc4b277007e286cffd58f6",
        "colab": {
          "base_uri": "https://localhost:8080/"
        },
        "id": "jO9csyy31KmN",
        "outputId": "2e70e296-eb35-49f8-f7b4-8770d43271b3"
      },
      "cell_type": "code",
      "source": [
        "# The GRU architecture\n",
        "regressorGRU = Sequential()\n",
        "\n",
        "# First GRU layer with Dropout regularisation\n",
        "regressorGRU.add(GRU(units=50, return_sequences=True, input_shape=(X_train.shape[1], 1), activation='tanh'))\n",
        "regressorGRU.add(Dropout(0.2))\n",
        "\n",
        "# Second GRU layer\n",
        "regressorGRU.add(GRU(units=50, return_sequences=True, input_shape=(X_train.shape[1], 1), activation='tanh'))\n",
        "regressorGRU.add(Dropout(0.2))\n",
        "\n",
        "# Third GRU layer\n",
        "regressorGRU.add(GRU(units=50, return_sequences=True, input_shape=(X_train.shape[1], 1), activation='tanh'))\n",
        "regressorGRU.add(Dropout(0.2))\n",
        "\n",
        "# Fourth GRU layer\n",
        "regressorGRU.add(GRU(units=50, activation='tanh'))\n",
        "regressorGRU.add(Dropout(0.2))\n",
        "\n",
        "\n",
        "# The output layer\n",
        "regressorGRU.add(Dense(units=1))\n",
        "\n",
        "# Compiling the RNN\n",
        "regressorGRU.compile(optimizer=SGD(lr=0.01, decay=1e-7, momentum=0.9, nesterov=False),loss='mean_squared_error')\n",
        "\n",
        "# Fitting to the training set\n",
        "regressorGRU.fit(X_train, y_train, epochs=50, batch_size=150)\n"
      ],
      "execution_count": 26,
      "outputs": [
        {
          "output_type": "stream",
          "name": "stdout",
          "text": [
            "Epoch 1/50\n",
            "19/19 [==============================] - 6s 18ms/step - loss: 0.1229\n",
            "Epoch 2/50\n",
            "19/19 [==============================] - 0s 13ms/step - loss: 0.0429\n",
            "Epoch 3/50\n",
            "19/19 [==============================] - 0s 12ms/step - loss: 0.0128\n",
            "Epoch 4/50\n",
            "19/19 [==============================] - 0s 12ms/step - loss: 0.0051\n",
            "Epoch 5/50\n",
            "19/19 [==============================] - 0s 12ms/step - loss: 0.0040\n",
            "Epoch 6/50\n",
            "19/19 [==============================] - 0s 12ms/step - loss: 0.0038\n",
            "Epoch 7/50\n",
            "19/19 [==============================] - 0s 12ms/step - loss: 0.0035\n",
            "Epoch 8/50\n",
            "19/19 [==============================] - 0s 11ms/step - loss: 0.0032\n",
            "Epoch 9/50\n",
            "19/19 [==============================] - 0s 12ms/step - loss: 0.0033\n",
            "Epoch 10/50\n",
            "19/19 [==============================] - 0s 13ms/step - loss: 0.0035\n",
            "Epoch 11/50\n",
            "19/19 [==============================] - 0s 12ms/step - loss: 0.0033\n",
            "Epoch 12/50\n",
            "19/19 [==============================] - 0s 16ms/step - loss: 0.0032\n",
            "Epoch 13/50\n",
            "19/19 [==============================] - 0s 20ms/step - loss: 0.0030\n",
            "Epoch 14/50\n",
            "19/19 [==============================] - 0s 19ms/step - loss: 0.0029\n",
            "Epoch 15/50\n",
            "19/19 [==============================] - 0s 17ms/step - loss: 0.0028\n",
            "Epoch 16/50\n",
            "19/19 [==============================] - 0s 19ms/step - loss: 0.0028\n",
            "Epoch 17/50\n",
            "19/19 [==============================] - 0s 21ms/step - loss: 0.0027\n",
            "Epoch 18/50\n",
            "19/19 [==============================] - 0s 21ms/step - loss: 0.0026\n",
            "Epoch 19/50\n",
            "19/19 [==============================] - 0s 14ms/step - loss: 0.0028\n",
            "Epoch 20/50\n",
            "19/19 [==============================] - 0s 16ms/step - loss: 0.0025\n",
            "Epoch 21/50\n",
            "19/19 [==============================] - 0s 18ms/step - loss: 0.0025\n",
            "Epoch 22/50\n",
            "19/19 [==============================] - 0s 18ms/step - loss: 0.0025\n",
            "Epoch 23/50\n",
            "19/19 [==============================] - 0s 14ms/step - loss: 0.0025\n",
            "Epoch 24/50\n",
            "19/19 [==============================] - 0s 24ms/step - loss: 0.0025\n",
            "Epoch 25/50\n",
            "19/19 [==============================] - 1s 31ms/step - loss: 0.0024\n",
            "Epoch 26/50\n",
            "19/19 [==============================] - 0s 21ms/step - loss: 0.0025\n",
            "Epoch 27/50\n",
            "19/19 [==============================] - 0s 22ms/step - loss: 0.0025\n",
            "Epoch 28/50\n",
            "19/19 [==============================] - 0s 15ms/step - loss: 0.0023\n",
            "Epoch 29/50\n",
            "19/19 [==============================] - 0s 25ms/step - loss: 0.0023\n",
            "Epoch 30/50\n",
            "19/19 [==============================] - 0s 27ms/step - loss: 0.0024\n",
            "Epoch 31/50\n",
            "19/19 [==============================] - 0s 24ms/step - loss: 0.0024\n",
            "Epoch 32/50\n",
            "19/19 [==============================] - 0s 21ms/step - loss: 0.0023\n",
            "Epoch 33/50\n",
            "19/19 [==============================] - 1s 50ms/step - loss: 0.0024\n",
            "Epoch 34/50\n",
            "19/19 [==============================] - 1s 30ms/step - loss: 0.0024\n",
            "Epoch 35/50\n",
            "19/19 [==============================] - 0s 18ms/step - loss: 0.0023\n",
            "Epoch 36/50\n",
            "19/19 [==============================] - 1s 28ms/step - loss: 0.0022\n",
            "Epoch 37/50\n",
            "19/19 [==============================] - 0s 18ms/step - loss: 0.0023\n",
            "Epoch 38/50\n",
            "19/19 [==============================] - 0s 15ms/step - loss: 0.0022\n",
            "Epoch 39/50\n",
            "19/19 [==============================] - 0s 18ms/step - loss: 0.0023\n",
            "Epoch 40/50\n",
            "19/19 [==============================] - 0s 13ms/step - loss: 0.0022\n",
            "Epoch 41/50\n",
            "19/19 [==============================] - 0s 19ms/step - loss: 0.0022\n",
            "Epoch 42/50\n",
            "19/19 [==============================] - 0s 13ms/step - loss: 0.0021\n",
            "Epoch 43/50\n",
            "19/19 [==============================] - 0s 16ms/step - loss: 0.0022\n",
            "Epoch 44/50\n",
            "19/19 [==============================] - 0s 14ms/step - loss: 0.0020\n",
            "Epoch 45/50\n",
            "19/19 [==============================] - 0s 16ms/step - loss: 0.0021\n",
            "Epoch 46/50\n",
            "19/19 [==============================] - 0s 18ms/step - loss: 0.0021\n",
            "Epoch 47/50\n",
            "19/19 [==============================] - 0s 13ms/step - loss: 0.0021\n",
            "Epoch 48/50\n",
            "19/19 [==============================] - 0s 21ms/step - loss: 0.0021\n",
            "Epoch 49/50\n",
            "19/19 [==============================] - 0s 12ms/step - loss: 0.0020\n",
            "Epoch 50/50\n",
            "19/19 [==============================] - 0s 14ms/step - loss: 0.0021\n"
          ]
        },
        {
          "output_type": "execute_result",
          "data": {
            "text/plain": [
              "<keras.callbacks.History at 0x7f19ae570460>"
            ]
          },
          "metadata": {},
          "execution_count": 26
        }
      ]
    },
    {
      "metadata": {
        "_kg_hide-input": false,
        "_uuid": "98628386f141545aa77d70f48478ac82bd9c1608",
        "id": "1kgU90hU1KmN"
      },
      "cell_type": "markdown",
      "source": [
        "The current version version uses a dense GRU network with 100 units as opposed to the GRU network with 50 units in previous version"
      ]
    },
    {
      "metadata": {
        "trusted": true,
        "collapsed": true,
        "_uuid": "f20ca021ea3ce05f6c6a98db93775f1b2c9c022c",
        "colab": {
          "base_uri": "https://localhost:8080/"
        },
        "id": "plVQez9A1KmN",
        "outputId": "ea53198e-ac80-43b5-87cd-a623a8d1fae2"
      },
      "cell_type": "code",
      "source": [
        "# Preparing X_test and predicting the prices\n",
        "X_test = []\n",
        "for i in range(60, 311):\n",
        "  X_test.append(inputs[i-60:i, 0])\n",
        "X_test = np.array(X_test)\n",
        "X_test = np.reshape(X_test, (X_test.shape[0], X_test.shape[1], 1))\n",
        "GRU_predicted_stock_price = regressorGRU.predict(X_test)\n",
        "GRU_predicted_stock_price = sc.inverse_transform(GRU_predicted_stock_price)\n",
        "\n"
      ],
      "execution_count": 27,
      "outputs": [
        {
          "output_type": "stream",
          "name": "stdout",
          "text": [
            "8/8 [==============================] - 1s 7ms/step\n"
          ]
        }
      ]
    },
    {
      "metadata": {
        "trusted": true,
        "collapsed": true,
        "_uuid": "da8e9fa28510aa03e7dd06d5070d7b16e05ebb6e",
        "colab": {
          "base_uri": "https://localhost:8080/",
          "height": 325
        },
        "id": "skZiUdnH1KmO",
        "outputId": "1dbc06a5-5912-43d8-a811-e22362abd647"
      },
      "cell_type": "code",
      "source": [
        "# Visualizing the results for GRU\n",
        "plot_predictions(test_set, GRU_predicted_stock_price)\n"
      ],
      "execution_count": 28,
      "outputs": [
        {
          "output_type": "display_data",
          "data": {
            "text/plain": [
              "<Figure size 432x288 with 1 Axes>"
            ],
            "image/png": "[encoded data removed]"
          },
          "metadata": {}
        }
      ]
    },
    {
      "metadata": {
        "trusted": true,
        "collapsed": true,
        "_uuid": "23aec5ab1a717e3458c8d5cae68db0e7add091ae",
        "colab": {
          "base_uri": "https://localhost:8080/"
        },
        "id": "FsZ_JaWr1KmO",
        "outputId": "193ff221-b51b-4ee6-96d5-980712d1ce40"
      },
      "cell_type": "code",
      "source": [
        "# Evaluating GRU\n",
        "return_rmse(test_set, GRU_predicted_stock_price)\n"
      ],
      "execution_count": 29,
      "outputs": [
        {
          "output_type": "stream",
          "name": "stdout",
          "text": [
            "The root mean squared error is 3.639933539663225.\n"
          ]
        }
      ]
    },
    {
      "metadata": {
        "_uuid": "3aa099ecc057f972525df4c7ef4209744d27106a",
        "id": "lvPy52yl1KmO"
      },
      "cell_type": "markdown",
      "source": [
        "## Sequence Generation\n",
        "Here, I will generate a sequence using just initial 60 values instead of using last 60 values for every new prediction. **Due to doubts in various comments about predictions making use of test set values, I have decided to include sequence generation.** The above models make use of test set so it is using last 60 true values for predicting the new value(I will call it a benchmark). This is why the error is so low. Strong models can bring similar results like above models for sequences too but they require more than just data which has previous values. In case of stocks, we need to know the sentiments of the market, the movement of other stocks and a lot more. So, don't expect a remotely accurate plot. The error will be great and the best I can do is generate the trend similar to the test set.\n",
        "\n",
        "I will use GRU model for predictions. You can try this using LSTMs also. I have modified GRU model above to get the best sequence possible. I have run the model four times and two times I got error of around 8 to 9. The worst case had an error of around 11. Let's see what this iterations.\n",
        "\n",
        "The GRU model in the previous versions is fine too. Just a little tweaking was required to get good sequences. **The main goal of this kernel is to show how to build RNN models. How you predict data and what kind of data you predict is up to you. I can't give you some 100 lines of code where you put the destination of training and test set and get world-class results. That's something you have to do yourself.**"
      ]
    },
    {
      "metadata": {
        "trusted": true,
        "_uuid": "2949de3c668a788117221000567aaa7033cd1a17",
        "colab": {
          "base_uri": "https://localhost:8080/"
        },
        "id": "Ztb1bokN1KmO",
        "outputId": "2329b3e5-1095-48f1-b633-7375725409c1"
      },
      "cell_type": "code",
      "source": [
        "# Preparing sequence data\n",
        "initial_sequence = X_train[2708,:]\n",
        "sequence = []\n",
        "\n",
        "for i in range(251):\n",
        "  new_prediction = regressorGRU.predict(initial_sequence.reshape(initial_sequence.shape[1], initial_sequence.shape[0], 1))\n",
        "  initial_sequence=initial_sequence[1:]\n",
        "  initial_sequence = np.append(initial_sequence, new_prediction, axis=0)\n",
        "  sequence.append(new_prediction)\n",
        "sequence = sc.inverse_transform(np.array(sequence).reshape(251, 1))\n",
        "\n"
      ],
      "execution_count": 30,
      "outputs": [
        {
          "output_type": "stream",
          "name": "stdout",
          "text": [
            "1/1 [==============================] - 0s 22ms/step\n",
            "1/1 [==============================] - 0s 25ms/step\n",
            "1/1 [==============================] - 0s 23ms/step\n",
            "1/1 [==============================] - 0s 22ms/step\n",
            "1/1 [==============================] - 0s 22ms/step\n",
            "1/1 [==============================] - 0s 23ms/step\n",
            "1/1 [==============================] - 0s 22ms/step\n",
            "1/1 [==============================] - 0s 20ms/step\n",
            "1/1 [==============================] - 0s 20ms/step\n",
            "1/1 [==============================] - 0s 24ms/step\n",
            "1/1 [==============================] - 0s 20ms/step\n",
            "1/1 [==============================] - 0s 20ms/step\n",
            "1/1 [==============================] - 0s 22ms/step\n",
            "1/1 [==============================] - 0s 22ms/step\n",
            "1/1 [==============================] - 0s 20ms/step\n",
            "1/1 [==============================] - 0s 25ms/step\n",
            "1/1 [==============================] - 0s 22ms/step\n",
            "1/1 [==============================] - 0s 22ms/step\n",
            "1/1 [==============================] - 0s 23ms/step\n",
            "1/1 [==============================] - 0s 20ms/step\n",
            "1/1 [==============================] - 0s 20ms/step\n",
            "1/1 [==============================] - 0s 22ms/step\n",
            "1/1 [==============================] - 0s 23ms/step\n",
            "1/1 [==============================] - 0s 20ms/step\n",
            "1/1 [==============================] - 0s 22ms/step\n",
            "1/1 [==============================] - 0s 21ms/step\n",
            "1/1 [==============================] - 0s 22ms/step\n",
            "1/1 [==============================] - 0s 20ms/step\n",
            "1/1 [==============================] - 0s 23ms/step\n",
            "1/1 [==============================] - 0s 24ms/step\n",
            "1/1 [==============================] - 0s 21ms/step\n",
            "1/1 [==============================] - 0s 20ms/step\n",
            "1/1 [==============================] - 0s 20ms/step\n",
            "1/1 [==============================] - 0s 20ms/step\n",
            "1/1 [==============================] - 0s 26ms/step\n",
            "1/1 [==============================] - 0s 22ms/step\n",
            "1/1 [==============================] - 0s 22ms/step\n",
            "1/1 [==============================] - 0s 21ms/step\n",
            "1/1 [==============================] - 0s 21ms/step\n",
            "1/1 [==============================] - 0s 21ms/step\n",
            "1/1 [==============================] - 0s 25ms/step\n",
            "1/1 [==============================] - 0s 28ms/step\n",
            "1/1 [==============================] - 0s 23ms/step\n",
            "1/1 [==============================] - 0s 22ms/step\n",
            "1/1 [==============================] - 0s 22ms/step\n",
            "1/1 [==============================] - 0s 22ms/step\n",
            "1/1 [==============================] - 0s 21ms/step\n",
            "1/1 [==============================] - 0s 22ms/step\n",
            "1/1 [==============================] - 0s 20ms/step\n",
            "1/1 [==============================] - 0s 24ms/step\n",
            "1/1 [==============================] - 0s 20ms/step\n",
            "1/1 [==============================] - 0s 21ms/step\n",
            "1/1 [==============================] - 0s 22ms/step\n",
            "1/1 [==============================] - 0s 21ms/step\n",
            "1/1 [==============================] - 0s 20ms/step\n",
            "1/1 [==============================] - 0s 21ms/step\n",
            "1/1 [==============================] - 0s 20ms/step\n",
            "1/1 [==============================] - 0s 22ms/step\n",
            "1/1 [==============================] - 0s 28ms/step\n",
            "1/1 [==============================] - 0s 23ms/step\n",
            "1/1 [==============================] - 0s 23ms/step\n",
            "1/1 [==============================] - 0s 24ms/step\n",
            "1/1 [==============================] - 0s 21ms/step\n",
            "1/1 [==============================] - 0s 22ms/step\n",
            "1/1 [==============================] - 0s 23ms/step\n",
            "1/1 [==============================] - 0s 20ms/step\n",
            "1/1 [==============================] - 0s 22ms/step\n",
            "1/1 [==============================] - 0s 27ms/step\n",
            "1/1 [==============================] - 0s 21ms/step\n",
            "1/1 [==============================] - 0s 23ms/step\n",
            "1/1 [==============================] - 0s 22ms/step\n",
            "1/1 [==============================] - 0s 25ms/step\n",
            "1/1 [==============================] - 0s 21ms/step\n",
            "1/1 [==============================] - 0s 23ms/step\n",
            "1/1 [==============================] - 0s 20ms/step\n",
            "1/1 [==============================] - 0s 21ms/step\n",
            "1/1 [==============================] - 0s 28ms/step\n",
            "1/1 [==============================] - 0s 44ms/step\n",
            "1/1 [==============================] - 0s 35ms/step\n",
            "1/1 [==============================] - 0s 31ms/step\n",
            "1/1 [==============================] - 0s 34ms/step\n",
            "1/1 [==============================] - 0s 29ms/step\n",
            "1/1 [==============================] - 0s 30ms/step\n",
            "1/1 [==============================] - 0s 30ms/step\n",
            "1/1 [==============================] - 0s 31ms/step\n",
            "1/1 [==============================] - 0s 34ms/step\n",
            "1/1 [==============================] - 0s 33ms/step\n",
            "1/1 [==============================] - 0s 35ms/step\n",
            "1/1 [==============================] - 0s 37ms/step\n",
            "1/1 [==============================] - 0s 32ms/step\n",
            "1/1 [==============================] - 0s 29ms/step\n",
            "1/1 [==============================] - 0s 29ms/step\n",
            "1/1 [==============================] - 0s 29ms/step\n",
            "1/1 [==============================] - 0s 32ms/step\n",
            "1/1 [==============================] - 0s 31ms/step\n",
            "1/1 [==============================] - 0s 31ms/step\n",
            "1/1 [==============================] - 0s 30ms/step\n",
            "1/1 [==============================] - 0s 29ms/step\n",
            "1/1 [==============================] - 0s 30ms/step\n",
            "1/1 [==============================] - 0s 32ms/step\n",
            "1/1 [==============================] - 0s 29ms/step\n",
            "1/1 [==============================] - 0s 32ms/step\n",
            "1/1 [==============================] - 0s 32ms/step\n",
            "1/1 [==============================] - 0s 35ms/step\n",
            "1/1 [==============================] - 0s 30ms/step\n",
            "1/1 [==============================] - 0s 31ms/step\n",
            "1/1 [==============================] - 0s 30ms/step\n",
            "1/1 [==============================] - 0s 29ms/step\n",
            "1/1 [==============================] - 0s 29ms/step\n",
            "1/1 [==============================] - 0s 29ms/step\n",
            "1/1 [==============================] - 0s 29ms/step\n",
            "1/1 [==============================] - 0s 33ms/step\n",
            "1/1 [==============================] - 0s 31ms/step\n",
            "1/1 [==============================] - 0s 31ms/step\n",
            "1/1 [==============================] - 0s 34ms/step\n",
            "1/1 [==============================] - 0s 35ms/step\n",
            "1/1 [==============================] - 0s 29ms/step\n",
            "1/1 [==============================] - 0s 21ms/step\n",
            "1/1 [==============================] - 0s 20ms/step\n",
            "1/1 [==============================] - 0s 21ms/step\n",
            "1/1 [==============================] - 0s 19ms/step\n",
            "1/1 [==============================] - 0s 21ms/step\n",
            "1/1 [==============================] - 0s 20ms/step\n",
            "1/1 [==============================] - 0s 23ms/step\n",
            "1/1 [==============================] - 0s 35ms/step\n",
            "1/1 [==============================] - 0s 31ms/step\n",
            "1/1 [==============================] - 0s 32ms/step\n",
            "1/1 [==============================] - 0s 35ms/step\n",
            "1/1 [==============================] - 0s 32ms/step\n",
            "1/1 [==============================] - 0s 36ms/step\n",
            "1/1 [==============================] - 0s 34ms/step\n",
            "1/1 [==============================] - 0s 35ms/step\n",
            "1/1 [==============================] - 0s 24ms/step\n",
            "1/1 [==============================] - 0s 23ms/step\n",
            "1/1 [==============================] - 0s 23ms/step\n",
            "1/1 [==============================] - 0s 20ms/step\n",
            "1/1 [==============================] - 0s 21ms/step\n",
            "1/1 [==============================] - 0s 24ms/step\n",
            "1/1 [==============================] - 0s 20ms/step\n",
            "1/1 [==============================] - 0s 20ms/step\n",
            "1/1 [==============================] - 0s 20ms/step\n",
            "1/1 [==============================] - 0s 25ms/step\n",
            "1/1 [==============================] - 0s 21ms/step\n",
            "1/1 [==============================] - 0s 23ms/step\n",
            "1/1 [==============================] - 0s 36ms/step\n",
            "1/1 [==============================] - 0s 20ms/step\n",
            "1/1 [==============================] - 0s 21ms/step\n",
            "1/1 [==============================] - 0s 20ms/step\n",
            "1/1 [==============================] - 0s 20ms/step\n",
            "1/1 [==============================] - 0s 20ms/step\n",
            "1/1 [==============================] - 0s 35ms/step\n",
            "1/1 [==============================] - 0s 32ms/step\n",
            "1/1 [==============================] - 0s 41ms/step\n",
            "1/1 [==============================] - 0s 38ms/step\n",
            "1/1 [==============================] - 0s 102ms/step\n",
            "1/1 [==============================] - 0s 39ms/step\n",
            "1/1 [==============================] - 0s 45ms/step\n",
            "1/1 [==============================] - 0s 40ms/step\n",
            "1/1 [==============================] - 0s 43ms/step\n",
            "1/1 [==============================] - 0s 36ms/step\n",
            "1/1 [==============================] - 0s 32ms/step\n",
            "1/1 [==============================] - 0s 22ms/step\n",
            "1/1 [==============================] - 0s 20ms/step\n",
            "1/1 [==============================] - 0s 20ms/step\n",
            "1/1 [==============================] - 0s 34ms/step\n",
            "1/1 [==============================] - 0s 57ms/step\n",
            "1/1 [==============================] - 0s 34ms/step\n",
            "1/1 [==============================] - 0s 38ms/step\n",
            "1/1 [==============================] - 0s 35ms/step\n",
            "1/1 [==============================] - 0s 51ms/step\n",
            "1/1 [==============================] - 0s 45ms/step\n",
            "1/1 [==============================] - 0s 33ms/step\n",
            "1/1 [==============================] - 0s 32ms/step\n",
            "1/1 [==============================] - 0s 32ms/step\n",
            "1/1 [==============================] - 0s 33ms/step\n",
            "1/1 [==============================] - 0s 21ms/step\n",
            "1/1 [==============================] - 0s 20ms/step\n",
            "1/1 [==============================] - 0s 20ms/step\n",
            "1/1 [==============================] - 0s 20ms/step\n",
            "1/1 [==============================] - 0s 32ms/step\n",
            "1/1 [==============================] - 0s 20ms/step\n",
            "1/1 [==============================] - 0s 23ms/step\n",
            "1/1 [==============================] - 0s 23ms/step\n",
            "1/1 [==============================] - 0s 20ms/step\n",
            "1/1 [==============================] - 0s 33ms/step\n",
            "1/1 [==============================] - 0s 34ms/step\n",
            "1/1 [==============================] - 0s 35ms/step\n",
            "1/1 [==============================] - 0s 35ms/step\n",
            "1/1 [==============================] - 0s 22ms/step\n",
            "1/1 [==============================] - 0s 20ms/step\n",
            "1/1 [==============================] - 0s 23ms/step\n",
            "1/1 [==============================] - 0s 20ms/step\n",
            "1/1 [==============================] - 0s 43ms/step\n",
            "1/1 [==============================] - 0s 33ms/step\n",
            "1/1 [==============================] - 0s 34ms/step\n",
            "1/1 [==============================] - 0s 32ms/step\n",
            "1/1 [==============================] - 0s 34ms/step\n",
            "1/1 [==============================] - 0s 21ms/step\n",
            "1/1 [==============================] - 0s 28ms/step\n",
            "1/1 [==============================] - 0s 23ms/step\n",
            "1/1 [==============================] - 0s 26ms/step\n",
            "1/1 [==============================] - 0s 39ms/step\n",
            "1/1 [==============================] - 0s 45ms/step\n",
            "1/1 [==============================] - 0s 38ms/step\n",
            "1/1 [==============================] - 0s 35ms/step\n",
            "1/1 [==============================] - 0s 39ms/step\n",
            "1/1 [==============================] - 0s 38ms/step\n",
            "1/1 [==============================] - 0s 37ms/step\n",
            "1/1 [==============================] - 0s 31ms/step\n",
            "1/1 [==============================] - 0s 44ms/step\n",
            "1/1 [==============================] - 0s 24ms/step\n",
            "1/1 [==============================] - 0s 20ms/step\n",
            "1/1 [==============================] - 0s 21ms/step\n",
            "1/1 [==============================] - 0s 22ms/step\n",
            "1/1 [==============================] - 0s 23ms/step\n",
            "1/1 [==============================] - 0s 33ms/step\n",
            "1/1 [==============================] - 0s 37ms/step\n",
            "1/1 [==============================] - 0s 33ms/step\n",
            "1/1 [==============================] - 0s 30ms/step\n",
            "1/1 [==============================] - 0s 39ms/step\n",
            "1/1 [==============================] - 0s 31ms/step\n",
            "1/1 [==============================] - 0s 37ms/step\n",
            "1/1 [==============================] - 0s 37ms/step\n",
            "1/1 [==============================] - 0s 31ms/step\n",
            "1/1 [==============================] - 0s 32ms/step\n",
            "1/1 [==============================] - 0s 35ms/step\n",
            "1/1 [==============================] - 0s 34ms/step\n",
            "1/1 [==============================] - 0s 34ms/step\n",
            "1/1 [==============================] - 0s 35ms/step\n",
            "1/1 [==============================] - 0s 34ms/step\n",
            "1/1 [==============================] - 0s 52ms/step\n",
            "1/1 [==============================] - 0s 31ms/step\n",
            "1/1 [==============================] - 0s 33ms/step\n",
            "1/1 [==============================] - 0s 46ms/step\n",
            "1/1 [==============================] - 0s 34ms/step\n",
            "1/1 [==============================] - 0s 63ms/step\n",
            "1/1 [==============================] - 0s 81ms/step\n",
            "1/1 [==============================] - 0s 57ms/step\n",
            "1/1 [==============================] - 0s 35ms/step\n",
            "1/1 [==============================] - 0s 141ms/step\n",
            "1/1 [==============================] - 0s 133ms/step\n",
            "1/1 [==============================] - 0s 184ms/step\n",
            "1/1 [==============================] - 0s 181ms/step\n",
            "1/1 [==============================] - 0s 157ms/step\n",
            "1/1 [==============================] - 0s 77ms/step\n",
            "1/1 [==============================] - 0s 73ms/step\n",
            "1/1 [==============================] - 0s 86ms/step\n",
            "1/1 [==============================] - 0s 84ms/step\n",
            "1/1 [==============================] - 0s 115ms/step\n",
            "1/1 [==============================] - 0s 70ms/step\n",
            "1/1 [==============================] - 0s 68ms/step\n"
          ]
        }
      ]
    },
    {
      "metadata": {
        "trusted": true,
        "_uuid": "be390cade0cf4b31cb99e069570e1be2c5594c8b",
        "colab": {
          "base_uri": "https://localhost:8080/",
          "height": 325
        },
        "id": "KTyeESrm1KmO",
        "outputId": "ee860e13-1ad7-4873-861a-2ca959131873"
      },
      "cell_type": "code",
      "source": [
        "# Visualizing the sequence\n",
        "plot_predictions(test_set, sequence)\n"
      ],
      "execution_count": 31,
      "outputs": [
        {
          "output_type": "display_data",
          "data": {
            "text/plain": [
              "<Figure size 432x288 with 1 Axes>"
            ],
            "image/png": "[encoded data removed]"
          },
          "metadata": {}
        }
      ]
    },
    {
      "metadata": {
        "trusted": true,
        "_uuid": "59095a00a05a68b97d76fc13bb2d618c337e1c80",
        "colab": {
          "base_uri": "https://localhost:8080/"
        },
        "id": "-i4aNQ9c1KmO",
        "outputId": "097a3346-4c81-476a-f598-0fdd96402f4e"
      },
      "cell_type": "code",
      "source": [
        "# Evaluating the sequence\n",
        "return_rmse(test_set, sequence)"
      ],
      "execution_count": 32,
      "outputs": [
        {
          "output_type": "stream",
          "name": "stdout",
          "text": [
            "The root mean squared error is 30.556968622112247.\n"
          ]
        }
      ]
    },
    {
      "metadata": {
        "_uuid": "c1003e9a17b23c1e3c7b7298250f8b071a93ae91",
        "id": "RrHbg5VX1KmO"
      },
      "cell_type": "markdown",
      "source": [
        "So, GRU works better than LSTM in this case. Bidirectional LSTM is also a good way so make the model stronger. But this may vary for different data sets. **Applying both LSTM and GRU together gave even better results.** "
      ]
    },
    {
      "metadata": {
        "_uuid": "50534b0ff4065793ebce8997bd6da6ddc0af070f",
        "id": "WNH77GUc1KmO"
      },
      "cell_type": "markdown",
      "source": [
        "#### I was going to cover text generation using LSTM but already an excellent kernel by [Shivam Bansal](https://www.kaggle.com/shivamb) on the mentioned topic exists. Link for that kernel here: https://www.kaggle.com/shivamb/beginners-guide-to-text-generation-using-lstms"
      ]
    },
    {
      "metadata": {
        "_uuid": "9164ee2b253583928226c76f6a5f5148717227d7",
        "id": "Z7QT-jqt1KmP"
      },
      "cell_type": "markdown",
      "source": [
        "#### This is certainly not the end. Stay tuned for more stuff!"
      ]
    }
  ],
  "metadata": {
    "kernelspec": {
      "display_name": "Python 3",
      "language": "python",
      "name": "python3"
    },
    "language_info": {
      "name": "python",
      "version": "3.6.6",
      "mimetype": "text/x-python",
      "codemirror_mode": {
        "name": "ipython",
        "version": 3
      },
      "pygments_lexer": "ipython3",
      "nbconvert_exporter": "python",
      "file_extension": ".py"
    },
    "colab": {
      "provenance": [],
      "include_colab_link": true
    },
    "accelerator": "GPU",
    "gpuClass": "standard"
  },
  "nbformat": 4,
  "nbformat_minor": 0
}